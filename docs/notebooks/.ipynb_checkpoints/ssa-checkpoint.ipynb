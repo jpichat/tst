{
 "cells": [
  {
   "cell_type": "code",
   "execution_count": 1,
   "metadata": {
    "ExecuteTime": {
     "end_time": "2023-06-08T03:07:38.824044Z",
     "start_time": "2023-06-08T03:07:38.821474Z"
    }
   },
   "outputs": [
    {
     "ename": "SyntaxError",
     "evalue": "invalid syntax (<ipython-input-1-004c59e30e67>, line 11)",
     "output_type": "error",
     "traceback": [
      "\u001b[0;36m  File \u001b[0;32m\"<ipython-input-1-004c59e30e67>\"\u001b[0;36m, line \u001b[0;32m11\u001b[0m\n\u001b[0;31m    date_strftime_format = \"\"%Y-%m-%y %H:%M:%S\"\u001b[0m\n\u001b[0m                                ^\u001b[0m\n\u001b[0;31mSyntaxError\u001b[0m\u001b[0;31m:\u001b[0m invalid syntax\n"
     ]
    }
   ],
   "source": [
    "import os\n",
    "os.chdir('../../')\n",
    "\n",
    "import pandas as pd\n",
    "import matplotlib.pyplot as plt\n",
    "from lib.transform.decompose import SSA\n",
    "from lib.transform.impute import SSAImputer\n",
    "\n",
    "import logging\n",
    "import sys\n",
    "date_strftime_format = \"%Y-%m-%y %H:%M:%S\"\n",
    "logging.basicConfig(stream=sys.stdout, level=logging.INFO, format=\"%(asctime)s %(message)s\", datefmt=date_strftime_format)"
   ]
  },
  {
   "cell_type": "code",
   "execution_count": null,
   "metadata": {
    "ExecuteTime": {
     "end_time": "2023-06-08T03:07:38.824760Z",
     "start_time": "2023-06-08T03:07:38.817Z"
    }
   },
   "outputs": [],
   "source": [
    "%load_ext autoreload\n",
    "%autoreload 2"
   ]
  },
  {
   "cell_type": "code",
   "execution_count": null,
   "metadata": {
    "ExecuteTime": {
     "end_time": "2023-06-08T03:07:38.825275Z",
     "start_time": "2023-06-08T03:07:38.818Z"
    }
   },
   "outputs": [],
   "source": [
    "df = pd.read_csv('data/airpassengers_missing_values.csv',\n",
    "                 skipfooter=3,\n",
    "                 engine='python')\n",
    "df.head(20)"
   ]
  },
  {
   "cell_type": "markdown",
   "metadata": {},
   "source": [
    "### SSA"
   ]
  },
  {
   "cell_type": "code",
   "execution_count": null,
   "metadata": {
    "ExecuteTime": {
     "end_time": "2023-06-08T03:07:38.825620Z",
     "start_time": "2023-06-08T03:07:38.822Z"
    }
   },
   "outputs": [],
   "source": [
    "ssa = SSA(\"#Passengers\", embedding_dimension=12, n_components=2)\n",
    "\n",
    "df_ssa = ssa.fit_transform(df)\n",
    "\n",
    "plt.plot(df_ssa[\"#Passengers\"], label=\"input\")\n",
    "plt.plot(df_ssa[\"#Passengers_ssa1\"], label=\"trend\")\n",
    "plt.legend()"
   ]
  },
  {
   "cell_type": "markdown",
   "metadata": {},
   "source": [
    "### SSA imputation"
   ]
  },
  {
   "cell_type": "code",
   "execution_count": 2,
   "metadata": {
    "ExecuteTime": {
     "end_time": "2023-06-08T03:07:38.953934Z",
     "start_time": "2023-06-08T03:07:38.928288Z"
    }
   },
   "outputs": [
    {
     "ename": "NameError",
     "evalue": "name 'SSAImputer' is not defined",
     "output_type": "error",
     "traceback": [
      "\u001b[0;31m---------------------------------------------------------------------------\u001b[0m",
      "\u001b[0;31mNameError\u001b[0m                                 Traceback (most recent call last)",
      "\u001b[0;32m<ipython-input-2-3e87d6865ae9>\u001b[0m in \u001b[0;36m<module>\u001b[0;34m\u001b[0m\n\u001b[0;32m----> 1\u001b[0;31m ssai = SSAImputer(\n\u001b[0m\u001b[1;32m      2\u001b[0m     \u001b[0;34m\"#Passengers\"\u001b[0m\u001b[0;34m,\u001b[0m\u001b[0;34m\u001b[0m\u001b[0;34m\u001b[0m\u001b[0m\n\u001b[1;32m      3\u001b[0m     \u001b[0membedding_dimension\u001b[0m\u001b[0;34m=\u001b[0m\u001b[0;36m12\u001b[0m\u001b[0;34m,\u001b[0m\u001b[0;34m\u001b[0m\u001b[0;34m\u001b[0m\u001b[0m\n\u001b[1;32m      4\u001b[0m     \u001b[0mn_components\u001b[0m\u001b[0;34m=\u001b[0m\u001b[0;36m3\u001b[0m\u001b[0;34m,\u001b[0m\u001b[0;34m\u001b[0m\u001b[0;34m\u001b[0m\u001b[0m\n\u001b[1;32m      5\u001b[0m     \u001b[0mvar_threshold\u001b[0m\u001b[0;34m=\u001b[0m\u001b[0;36m99.5\u001b[0m\u001b[0;34m,\u001b[0m\u001b[0;34m\u001b[0m\u001b[0;34m\u001b[0m\u001b[0m\n",
      "\u001b[0;31mNameError\u001b[0m: name 'SSAImputer' is not defined"
     ]
    }
   ],
   "source": [
    "ssai = SSAImputer(\n",
    "    \"#Passengers\",\n",
    "    embedding_dimension=12,\n",
    "    n_components=3,\n",
    "    var_threshold=99.5,\n",
    "    grouping_method='wcorr',\n",
    "    use_k_components=2,\n",
    ")\n",
    "\n",
    "dfi = ssai.fit_transform(df, max_iter=5)"
   ]
  },
  {
   "cell_type": "code",
   "execution_count": null,
   "metadata": {},
   "outputs": [],
   "source": []
  }
 ],
 "metadata": {
  "kernelspec": {
   "display_name": "Python 3",
   "language": "python",
   "name": "python3"
  },
  "language_info": {
   "codemirror_mode": {
    "name": "ipython",
    "version": 3
   },
   "file_extension": ".py",
   "mimetype": "text/x-python",
   "name": "python",
   "nbconvert_exporter": "python",
   "pygments_lexer": "ipython3",
   "version": "3.8.10"
  },
  "toc": {
   "base_numbering": 1,
   "nav_menu": {},
   "number_sections": true,
   "sideBar": true,
   "skip_h1_title": false,
   "title_cell": "Table of Contents",
   "title_sidebar": "Contents",
   "toc_cell": false,
   "toc_position": {},
   "toc_section_display": true,
   "toc_window_display": true
  }
 },
 "nbformat": 4,
 "nbformat_minor": 2
}
