{
 "cells": [
  {
   "cell_type": "code",
   "execution_count": null,
   "metadata": {
    "ExecuteTime": {
     "end_time": "2023-06-08T03:21:51.015535Z",
     "start_time": "2023-06-08T03:21:50.236105Z"
    }
   },
   "outputs": [],
   "source": [
    "import os\n",
    "os.chdir('../../')\n",
    "\n",
    "import pandas as pd\n",
    "import matplotlib.pyplot as plt\n",
    "from lib.transform.decompose import SSA\n",
    "from lib.transform.impute import SSAImputer\n",
    "\n",
    "import logging\n",
    "import sys\n",
    "logging.basicConfig(stream=sys.stdout, level=logging.INFO)"
   ]
  },
  {
   "cell_type": "code",
   "execution_count": null,
   "metadata": {
    "ExecuteTime": {
     "end_time": "2023-06-08T03:21:51.029392Z",
     "start_time": "2023-06-08T03:21:51.016854Z"
    }
   },
   "outputs": [],
   "source": [
    "%load_ext autoreload\n",
    "%autoreload 2"
   ]
  },
  {
   "cell_type": "code",
   "execution_count": null,
   "metadata": {
    "ExecuteTime": {
     "end_time": "2023-06-08T03:21:51.050926Z",
     "start_time": "2023-06-08T03:21:51.032261Z"
    }
   },
   "outputs": [],
   "source": [
    "df = pd.read_csv('data/airpassengers_missing_values.csv',\n",
    "                 skipfooter=3,\n",
    "                 engine='python')\n",
    "df.head(20)"
   ]
  },
  {
   "cell_type": "markdown",
   "metadata": {},
   "source": [
    "### SSA"
   ]
  },
  {
   "cell_type": "code",
   "execution_count": null,
   "metadata": {
    "ExecuteTime": {
     "end_time": "2023-06-08T03:21:51.186987Z",
     "start_time": "2023-06-08T03:21:51.052111Z"
    }
   },
   "outputs": [],
   "source": [
    "ssa = SSA(\"#Passengers\", embedding_dimension=12, n_components=2)\n",
    "\n",
    "df_ssa = ssa.fit_transform(df)\n",
    "\n",
    "plt.plot(df_ssa[\"#Passengers\"], label=\"input\")\n",
    "plt.plot(df_ssa[\"#Passengers_ssa1\"], label=\"trend\")\n",
    "plt.legend()"
   ]
  },
  {
   "cell_type": "markdown",
   "metadata": {},
   "source": [
    "### SSA imputation"
   ]
  },
  {
   "cell_type": "code",
   "execution_count": null,
   "metadata": {
    "ExecuteTime": {
     "end_time": "2023-06-08T03:27:31.151341Z",
     "start_time": "2023-06-08T03:27:29.278369Z"
    }
   },
   "outputs": [],
   "source": [
    "ssai = SSAImputer(\n",
    "    \"#Passengers\",\n",
    "    embedding_dimension=12,\n",
    "    var_threshold=99.9,\n",
    "    n_components=2,\n",
    "    grouping_method=None,\n",
    "    use_k_components=2,\n",
    ")\n",
    "\n",
    "dfi = ssai.fit_transform(df, max_iter=100)"
   ]
  },
  {
   "cell_type": "code",
   "execution_count": null,
   "metadata": {
    "ExecuteTime": {
     "end_time": "2023-06-08T03:27:34.173741Z",
     "start_time": "2023-06-08T03:27:34.101658Z"
    }
   },
   "outputs": [],
   "source": [
    "plt.plot(dfi[\"#Passengers\"], label=\"imputed\")\n",
    "plt.plot(df[\"#Passengers\"], label=\"original\")\n",
    "plt.legend()"
   ]
  },
  {
   "cell_type": "code",
   "execution_count": null,
   "metadata": {},
   "outputs": [],
   "source": []
  }
 ],
 "metadata": {
  "kernelspec": {
   "display_name": "Python 3",
   "language": "python",
   "name": "python3"
  },
  "language_info": {
   "codemirror_mode": {
    "name": "ipython",
    "version": 3
   },
   "file_extension": ".py",
   "mimetype": "text/x-python",
   "name": "python",
   "nbconvert_exporter": "python",
   "pygments_lexer": "ipython3",
   "version": "3.8.10"
  },
  "toc": {
   "base_numbering": 1,
   "nav_menu": {},
   "number_sections": true,
   "sideBar": true,
   "skip_h1_title": false,
   "title_cell": "Table of Contents",
   "title_sidebar": "Contents",
   "toc_cell": false,
   "toc_position": {},
   "toc_section_display": true,
   "toc_window_display": true
  }
 },
 "nbformat": 4,
 "nbformat_minor": 2
}
